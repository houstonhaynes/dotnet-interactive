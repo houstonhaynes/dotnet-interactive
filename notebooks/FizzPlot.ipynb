{
 "cells": [
  {
   "cell_type": "code",
   "execution_count": null,
   "metadata": {
    "dotnet_interactive": {
     "language": "fsharp"
    }
   },
   "outputs": [
    {
     "data": {
      "text/html": [
       "<div><div><strong>Restore sources</strong><ul><li><span>https://dotnet.myget.org/F/dotnet-core/api/v3/index.json</span></li><li><span>https://pkgs.dev.azure.com/dnceng/public/_packaging/dotnet-tools/nuget/v3/index.json</span></li><li><span>https://pkgs.dev.azure.com/dnceng/public/_packaging/dotnet5/nuget/v3/index.json</span></li></ul></div><div><strong>Installed Packages</strong><ul><li><span>FizzPlot, 0.0.1-pre5</span></li></ul></div><div></div></div>"
      ]
     },
     "output_type": "unknown"
    }
   ],
   "source": [
    "#i \"nuget:https://pkgs.dev.azure.com/dnceng/public/_packaging/dotnet5/nuget/v3/index.json\" \r\n",
    "#i \"nuget:https://pkgs.dev.azure.com/dnceng/public/_packaging/dotnet-tools/nuget/v3/index.json\" \r\n",
    "#i \"nuget:https://dotnet.myget.org/F/dotnet-core/api/v3/index.json\" \r\n",
    "\r\n",
    "\r\n",
    "#r \"nuget: FizzPlot, 0.0.1-pre5\"\r\n",
    "\r\n",
    "open FizzPlot.HighCharts.Plot\r\n"
   ]
  },
  {
   "cell_type": "code",
   "execution_count": null,
   "metadata": {
    "dotnet_interactive": {
     "language": "fsharp"
    }
   },
   "outputs": [
    {
     "data": {
      "text/plain": [
       "Running server from "
      ]
     },
     "output_type": "unknown"
    },
    {
     "data": {
      "text/plain": [
       "C:\\Users\\h3tec\\.nuget\\packages\\fizzplot\\0.0.1-pre5\\lib\\netcoreapp3.1\\FizzPlot.Server.dll"
      ]
     },
     "output_type": "unknown"
    },
    {
     "data": {
      "text/plain": [
       "\r\n"
      ]
     },
     "output_type": "unknown"
    },
    {
     "data": {
      "text/plain": [
       "Running server process..."
      ]
     },
     "output_type": "unknown"
    },
    {
     "data": {
      "text/plain": [
       "\r\n"
      ]
     },
     "output_type": "unknown"
    },
    {
     "data": {
      "text/plain": [
       "Response code "
      ]
     },
     "output_type": "unknown"
    },
    {
     "data": {
      "text/plain": [
       "OK"
      ]
     },
     "output_type": "unknown"
    },
    {
     "data": {
      "text/plain": [
       " sending to server"
      ]
     },
     "output_type": "unknown"
    },
    {
     "data": {
      "text/plain": [
       "\r\n"
      ]
     },
     "output_type": "unknown"
    },
    {
     "data": {
      "text/plain": [
       "Request to server OK"
      ]
     },
     "output_type": "unknown"
    },
    {
     "data": {
      "text/plain": [
       "\r\n"
      ]
     },
     "output_type": "unknown"
    }
   ],
   "source": [
    "// Plot some data (xy tuples)\r\n",
    "let data1 = [\r\n",
    "    for t in 0.0 .. 0.01 .. 1. ->\r\n",
    "    (t, 1.0 + t + sin (2. * t) * cos (30. * (t - 30. * cos (1. * t)))) ]\r\n",
    "plot data1"
   ]
  },
  {
   "cell_type": "code",
   "execution_count": null,
   "metadata": {
    "dotnet_interactive": {
     "language": "fsharp"
    }
   },
   "outputs": [
    {
     "data": {
      "text/plain": [
       "Running server from "
      ]
     },
     "output_type": "unknown"
    },
    {
     "data": {
      "text/plain": [
       "C:\\Users\\h3tec\\.nuget\\packages\\fizzplot\\0.0.1-pre5\\lib\\netcoreapp3.1\\FizzPlot.Server.dll"
      ]
     },
     "output_type": "unknown"
    },
    {
     "data": {
      "text/plain": [
       "\r\n"
      ]
     },
     "output_type": "unknown"
    },
    {
     "data": {
      "text/plain": [
       "Running server process..."
      ]
     },
     "output_type": "unknown"
    },
    {
     "data": {
      "text/plain": [
       "\r\n"
      ]
     },
     "output_type": "unknown"
    },
    {
     "data": {
      "text/plain": [
       "Response code "
      ]
     },
     "output_type": "unknown"
    },
    {
     "data": {
      "text/plain": [
       "OK"
      ]
     },
     "output_type": "unknown"
    },
    {
     "data": {
      "text/plain": [
       " sending to server"
      ]
     },
     "output_type": "unknown"
    },
    {
     "data": {
      "text/plain": [
       "\r\n"
      ]
     },
     "output_type": "unknown"
    },
    {
     "data": {
      "text/plain": [
       "Request to server OK"
      ]
     },
     "output_type": "unknown"
    },
    {
     "data": {
      "text/plain": [
       "\r\n"
      ]
     },
     "output_type": "unknown"
    },
    {
     "data": {
      "text/plain": [
       "Response code "
      ]
     },
     "output_type": "unknown"
    },
    {
     "data": {
      "text/plain": [
       "OK"
      ]
     },
     "output_type": "unknown"
    },
    {
     "data": {
      "text/plain": [
       " sending to server"
      ]
     },
     "output_type": "unknown"
    },
    {
     "data": {
      "text/plain": [
       "\r\n"
      ]
     },
     "output_type": "unknown"
    },
    {
     "data": {
      "text/plain": [
       "Request to server OK"
      ]
     },
     "output_type": "unknown"
    },
    {
     "data": {
      "text/plain": [
       "\r\n"
      ]
     },
     "output_type": "unknown"
    },
    {
     "data": {
      "text/plain": [
       "Response code "
      ]
     },
     "output_type": "unknown"
    },
    {
     "data": {
      "text/plain": [
       "OK"
      ]
     },
     "output_type": "unknown"
    },
    {
     "data": {
      "text/plain": [
       " sending to server"
      ]
     },
     "output_type": "unknown"
    },
    {
     "data": {
      "text/plain": [
       "\r\n"
      ]
     },
     "output_type": "unknown"
    },
    {
     "data": {
      "text/plain": [
       "Request to server OK"
      ]
     },
     "output_type": "unknown"
    },
    {
     "data": {
      "text/plain": [
       "\r\n"
      ]
     },
     "output_type": "unknown"
    },
    {
     "data": {
      "text/plain": [
       "Response code "
      ]
     },
     "output_type": "unknown"
    },
    {
     "data": {
      "text/plain": [
       "OK"
      ]
     },
     "output_type": "unknown"
    },
    {
     "data": {
      "text/plain": [
       " sending to server"
      ]
     },
     "output_type": "unknown"
    },
    {
     "data": {
      "text/plain": [
       "\r\n"
      ]
     },
     "output_type": "unknown"
    },
    {
     "data": {
      "text/plain": [
       "Request to server OK"
      ]
     },
     "output_type": "unknown"
    },
    {
     "data": {
      "text/plain": [
       "\r\n"
      ]
     },
     "output_type": "unknown"
    },
    {
     "data": {
      "text/plain": [
       "Response code "
      ]
     },
     "output_type": "unknown"
    },
    {
     "data": {
      "text/plain": [
       "OK"
      ]
     },
     "output_type": "unknown"
    },
    {
     "data": {
      "text/plain": [
       " sending to server"
      ]
     },
     "output_type": "unknown"
    },
    {
     "data": {
      "text/plain": [
       "\r\n"
      ]
     },
     "output_type": "unknown"
    },
    {
     "data": {
      "text/plain": [
       "Request to server OK"
      ]
     },
     "output_type": "unknown"
    },
    {
     "data": {
      "text/plain": [
       "\r\n"
      ]
     },
     "output_type": "unknown"
    },
    {
     "data": {
      "text/plain": [
       "Response code "
      ]
     },
     "output_type": "unknown"
    },
    {
     "data": {
      "text/plain": [
       "OK"
      ]
     },
     "output_type": "unknown"
    },
    {
     "data": {
      "text/plain": [
       " sending to server"
      ]
     },
     "output_type": "unknown"
    },
    {
     "data": {
      "text/plain": [
       "\r\n"
      ]
     },
     "output_type": "unknown"
    },
    {
     "data": {
      "text/plain": [
       "Request to server OK"
      ]
     },
     "output_type": "unknown"
    },
    {
     "data": {
      "text/plain": [
       "\r\n"
      ]
     },
     "output_type": "unknown"
    }
   ],
   "source": [
    "// Update the title\r\n",
    "title \"Chirp\"\r\n",
    "\r\n",
    "// Update the axis titles\r\n",
    "xlabel \"Time (s)\"\r\n",
    "ylabel \"Voltage (V)\"\r\n",
    "\r\n",
    "// Set the figure dimensions\r\n",
    "setWidth 1200\r\n",
    "setHeight 500\r\n",
    "\r\n",
    "// Add another line\r\n",
    "let data2 = [\r\n",
    "    for t in 0.0 .. 0.001 .. 1. ->\r\n",
    "    (t, 1.0 + t + sin (2. * t)) ]\r\n",
    "plot data2"
   ]
  },
  {
   "cell_type": "code",
   "execution_count": null,
   "metadata": {
    "dotnet_interactive": {
     "language": "fsharp"
    }
   },
   "outputs": [
    {
     "data": {
      "text/plain": [
       "Response code "
      ]
     },
     "output_type": "unknown"
    },
    {
     "data": {
      "text/plain": [
       "OK"
      ]
     },
     "output_type": "unknown"
    },
    {
     "data": {
      "text/plain": [
       " sending to server"
      ]
     },
     "output_type": "unknown"
    },
    {
     "data": {
      "text/plain": [
       "\r\n"
      ]
     },
     "output_type": "unknown"
    },
    {
     "data": {
      "text/plain": [
       "Request to server OK"
      ]
     },
     "output_type": "unknown"
    },
    {
     "data": {
      "text/plain": [
       "\r\n"
      ]
     },
     "output_type": "unknown"
    },
    {
     "data": {
      "text/plain": [
       "Response code "
      ]
     },
     "output_type": "unknown"
    },
    {
     "data": {
      "text/plain": [
       "OK"
      ]
     },
     "output_type": "unknown"
    },
    {
     "data": {
      "text/plain": [
       " sending to server"
      ]
     },
     "output_type": "unknown"
    },
    {
     "data": {
      "text/plain": [
       "\r\n"
      ]
     },
     "output_type": "unknown"
    },
    {
     "data": {
      "text/plain": [
       "Request to server OK"
      ]
     },
     "output_type": "unknown"
    },
    {
     "data": {
      "text/plain": [
       "\r\n"
      ]
     },
     "output_type": "unknown"
    },
    {
     "data": {
      "text/plain": [
       "Response code "
      ]
     },
     "output_type": "unknown"
    },
    {
     "data": {
      "text/plain": [
       "OK"
      ]
     },
     "output_type": "unknown"
    },
    {
     "data": {
      "text/plain": [
       " sending to server"
      ]
     },
     "output_type": "unknown"
    },
    {
     "data": {
      "text/plain": [
       "\r\n"
      ]
     },
     "output_type": "unknown"
    },
    {
     "data": {
      "text/plain": [
       "Request to server OK"
      ]
     },
     "output_type": "unknown"
    },
    {
     "data": {
      "text/plain": [
       "\r\n"
      ]
     },
     "output_type": "unknown"
    },
    {
     "data": {
      "text/plain": [
       "Response code "
      ]
     },
     "output_type": "unknown"
    },
    {
     "data": {
      "text/plain": [
       "OK"
      ]
     },
     "output_type": "unknown"
    },
    {
     "data": {
      "text/plain": [
       " sending to server"
      ]
     },
     "output_type": "unknown"
    },
    {
     "data": {
      "text/plain": [
       "\r\n"
      ]
     },
     "output_type": "unknown"
    },
    {
     "data": {
      "text/plain": [
       "Request to server OK"
      ]
     },
     "output_type": "unknown"
    },
    {
     "data": {
      "text/plain": [
       "\r\n"
      ]
     },
     "output_type": "unknown"
    },
    {
     "data": {
      "text/plain": [
       "Response code "
      ]
     },
     "output_type": "unknown"
    },
    {
     "data": {
      "text/plain": [
       "OK"
      ]
     },
     "output_type": "unknown"
    },
    {
     "data": {
      "text/plain": [
       " sending to server"
      ]
     },
     "output_type": "unknown"
    },
    {
     "data": {
      "text/plain": [
       "\r\n"
      ]
     },
     "output_type": "unknown"
    },
    {
     "data": {
      "text/plain": [
       "Request to server OK"
      ]
     },
     "output_type": "unknown"
    },
    {
     "data": {
      "text/plain": [
       "\r\n"
      ]
     },
     "output_type": "unknown"
    },
    {
     "data": {
      "text/plain": [
       "Response code "
      ]
     },
     "output_type": "unknown"
    },
    {
     "data": {
      "text/plain": [
       "OK"
      ]
     },
     "output_type": "unknown"
    },
    {
     "data": {
      "text/plain": [
       " sending to server"
      ]
     },
     "output_type": "unknown"
    },
    {
     "data": {
      "text/plain": [
       "\r\n"
      ]
     },
     "output_type": "unknown"
    },
    {
     "data": {
      "text/plain": [
       "Request to server OK"
      ]
     },
     "output_type": "unknown"
    },
    {
     "data": {
      "text/plain": [
       "\r\n"
      ]
     },
     "output_type": "unknown"
    },
    {
     "data": {
      "text/plain": [
       "Response code "
      ]
     },
     "output_type": "unknown"
    },
    {
     "data": {
      "text/plain": [
       "OK"
      ]
     },
     "output_type": "unknown"
    },
    {
     "data": {
      "text/plain": [
       " sending to server"
      ]
     },
     "output_type": "unknown"
    },
    {
     "data": {
      "text/plain": [
       "\r\n"
      ]
     },
     "output_type": "unknown"
    },
    {
     "data": {
      "text/plain": [
       "Request to server OK"
      ]
     },
     "output_type": "unknown"
    },
    {
     "data": {
      "text/plain": [
       "\r\n"
      ]
     },
     "output_type": "unknown"
    },
    {
     "data": {
      "text/plain": [
       "Response code "
      ]
     },
     "output_type": "unknown"
    },
    {
     "data": {
      "text/plain": [
       "OK"
      ]
     },
     "output_type": "unknown"
    },
    {
     "data": {
      "text/plain": [
       " sending to server"
      ]
     },
     "output_type": "unknown"
    },
    {
     "data": {
      "text/plain": [
       "\r\n"
      ]
     },
     "output_type": "unknown"
    },
    {
     "data": {
      "text/plain": [
       "Request to server OK"
      ]
     },
     "output_type": "unknown"
    },
    {
     "data": {
      "text/plain": [
       "\r\n"
      ]
     },
     "output_type": "unknown"
    },
    {
     "data": {
      "text/plain": [
       "Response code "
      ]
     },
     "output_type": "unknown"
    },
    {
     "data": {
      "text/plain": [
       "OK"
      ]
     },
     "output_type": "unknown"
    },
    {
     "data": {
      "text/plain": [
       " sending to server"
      ]
     },
     "output_type": "unknown"
    },
    {
     "data": {
      "text/plain": [
       "\r\n"
      ]
     },
     "output_type": "unknown"
    },
    {
     "data": {
      "text/plain": [
       "Request to server OK"
      ]
     },
     "output_type": "unknown"
    },
    {
     "data": {
      "text/plain": [
       "\r\n"
      ]
     },
     "output_type": "unknown"
    },
    {
     "data": {
      "text/plain": [
       "Response code "
      ]
     },
     "output_type": "unknown"
    },
    {
     "data": {
      "text/plain": [
       "OK"
      ]
     },
     "output_type": "unknown"
    },
    {
     "data": {
      "text/plain": [
       " sending to server"
      ]
     },
     "output_type": "unknown"
    },
    {
     "data": {
      "text/plain": [
       "\r\n"
      ]
     },
     "output_type": "unknown"
    },
    {
     "data": {
      "text/plain": [
       "Request to server OK"
      ]
     },
     "output_type": "unknown"
    },
    {
     "data": {
      "text/plain": [
       "\r\n"
      ]
     },
     "output_type": "unknown"
    },
    {
     "data": {
      "text/plain": [
       "Response code "
      ]
     },
     "output_type": "unknown"
    },
    {
     "data": {
      "text/plain": [
       "OK"
      ]
     },
     "output_type": "unknown"
    },
    {
     "data": {
      "text/plain": [
       " sending to server"
      ]
     },
     "output_type": "unknown"
    },
    {
     "data": {
      "text/plain": [
       "\r\n"
      ]
     },
     "output_type": "unknown"
    },
    {
     "data": {
      "text/plain": [
       "Request to server OK"
      ]
     },
     "output_type": "unknown"
    },
    {
     "data": {
      "text/plain": [
       "\r\n"
      ]
     },
     "output_type": "unknown"
    },
    {
     "data": {
      "text/plain": [
       "Response code "
      ]
     },
     "output_type": "unknown"
    },
    {
     "data": {
      "text/plain": [
       "OK"
      ]
     },
     "output_type": "unknown"
    },
    {
     "data": {
      "text/plain": [
       " sending to server"
      ]
     },
     "output_type": "unknown"
    },
    {
     "data": {
      "text/plain": [
       "\r\n"
      ]
     },
     "output_type": "unknown"
    },
    {
     "data": {
      "text/plain": [
       "Request to server OK"
      ]
     },
     "output_type": "unknown"
    },
    {
     "data": {
      "text/plain": [
       "\r\n"
      ]
     },
     "output_type": "unknown"
    },
    {
     "data": {
      "text/plain": [
       "Response code "
      ]
     },
     "output_type": "unknown"
    },
    {
     "data": {
      "text/plain": [
       "OK"
      ]
     },
     "output_type": "unknown"
    },
    {
     "data": {
      "text/plain": [
       " sending to server"
      ]
     },
     "output_type": "unknown"
    },
    {
     "data": {
      "text/plain": [
       "\r\n"
      ]
     },
     "output_type": "unknown"
    },
    {
     "data": {
      "text/plain": [
       "Request to server OK"
      ]
     },
     "output_type": "unknown"
    },
    {
     "data": {
      "text/plain": [
       "\r\n"
      ]
     },
     "output_type": "unknown"
    },
    {
     "data": {
      "text/plain": [
       "Running server from "
      ]
     },
     "output_type": "unknown"
    },
    {
     "data": {
      "text/plain": [
       "C:\\Users\\h3tec\\.nuget\\packages\\fizzplot\\0.0.1-pre5\\lib\\netcoreapp3.1\\FizzPlot.Server.dll"
      ]
     },
     "output_type": "unknown"
    },
    {
     "data": {
      "text/plain": [
       "\r\n"
      ]
     },
     "output_type": "unknown"
    },
    {
     "data": {
      "text/plain": [
       "Running server process..."
      ]
     },
     "output_type": "unknown"
    },
    {
     "data": {
      "text/plain": [
       "\r\n"
      ]
     },
     "output_type": "unknown"
    },
    {
     "data": {
      "text/plain": [
       "Server process exited!"
      ]
     },
     "output_type": "unknown"
    },
    {
     "data": {
      "text/plain": [
       "\r\n"
      ]
     },
     "output_type": "unknown"
    },
    {
     "data": {
      "text/plain": [
       "Exception posting to server: "
      ]
     },
     "output_type": "unknown"
    },
    {
     "data": {
      "text/plain": [
       "System.Threading.Tasks.TaskCanceledException: A task was canceled."
      ]
     },
     "output_type": "unknown"
    },
    {
     "data": {
      "text/plain": [
       "\r\n"
      ]
     },
     "output_type": "unknown"
    },
    {
     "data": {
      "text/plain": [
       "Fetch result: "
      ]
     },
     "output_type": "unknown"
    },
    {
     "data": {
      "text/plain": [
       "InternalServerError"
      ]
     },
     "output_type": "unknown"
    },
    {
     "data": {
      "text/plain": [
       "\r\n"
      ]
     },
     "output_type": "unknown"
    },
    {
     "data": {
      "text/plain": [
       "Response code "
      ]
     },
     "output_type": "unknown"
    },
    {
     "data": {
      "text/plain": [
       "BadRequest"
      ]
     },
     "output_type": "unknown"
    },
    {
     "data": {
      "text/plain": [
       " sending to server"
      ]
     },
     "output_type": "unknown"
    },
    {
     "data": {
      "text/plain": [
       "\r\n"
      ]
     },
     "output_type": "unknown"
    },
    {
     "data": {
      "text/plain": [
       "Failed posting to server: "
      ]
     },
     "output_type": "unknown"
    },
    {
     "data": {
      "text/plain": [
       "BadRequest"
      ]
     },
     "output_type": "unknown"
    },
    {
     "data": {
      "text/plain": [
       "\r\n"
      ]
     },
     "output_type": "unknown"
    },
    {
     "data": {
      "text/plain": [
       "Response code "
      ]
     },
     "output_type": "unknown"
    },
    {
     "data": {
      "text/plain": [
       "OK"
      ]
     },
     "output_type": "unknown"
    },
    {
     "data": {
      "text/plain": [
       " sending to server"
      ]
     },
     "output_type": "unknown"
    },
    {
     "data": {
      "text/plain": [
       "\r\n"
      ]
     },
     "output_type": "unknown"
    },
    {
     "data": {
      "text/plain": [
       "Request to server OK"
      ]
     },
     "output_type": "unknown"
    },
    {
     "data": {
      "text/plain": [
       "\r\n"
      ]
     },
     "output_type": "unknown"
    },
    {
     "data": {
      "text/plain": [
       "Response code "
      ]
     },
     "output_type": "unknown"
    },
    {
     "data": {
      "text/plain": [
       "OK"
      ]
     },
     "output_type": "unknown"
    },
    {
     "data": {
      "text/plain": [
       " sending to server"
      ]
     },
     "output_type": "unknown"
    },
    {
     "data": {
      "text/plain": [
       "\r\n"
      ]
     },
     "output_type": "unknown"
    },
    {
     "data": {
      "text/plain": [
       "Request to server OK"
      ]
     },
     "output_type": "unknown"
    },
    {
     "data": {
      "text/plain": [
       "\r\n"
      ]
     },
     "output_type": "unknown"
    },
    {
     "data": {
      "text/plain": [
       "Response code "
      ]
     },
     "output_type": "unknown"
    },
    {
     "data": {
      "text/plain": [
       "OK"
      ]
     },
     "output_type": "unknown"
    },
    {
     "data": {
      "text/plain": [
       " sending to server"
      ]
     },
     "output_type": "unknown"
    },
    {
     "data": {
      "text/plain": [
       "\r\n"
      ]
     },
     "output_type": "unknown"
    },
    {
     "data": {
      "text/plain": [
       "Request to server OK"
      ]
     },
     "output_type": "unknown"
    },
    {
     "data": {
      "text/plain": [
       "\r\n"
      ]
     },
     "output_type": "unknown"
    },
    {
     "data": {
      "text/plain": [
       "Response code "
      ]
     },
     "output_type": "unknown"
    },
    {
     "data": {
      "text/plain": [
       "OK"
      ]
     },
     "output_type": "unknown"
    },
    {
     "data": {
      "text/plain": [
       " sending to server"
      ]
     },
     "output_type": "unknown"
    },
    {
     "data": {
      "text/plain": [
       "\r\n"
      ]
     },
     "output_type": "unknown"
    },
    {
     "data": {
      "text/plain": [
       "Request to server OK"
      ]
     },
     "output_type": "unknown"
    },
    {
     "data": {
      "text/plain": [
       "\r\n"
      ]
     },
     "output_type": "unknown"
    },
    {
     "data": {
      "text/plain": [
       "Response code "
      ]
     },
     "output_type": "unknown"
    },
    {
     "data": {
      "text/plain": [
       "OK"
      ]
     },
     "output_type": "unknown"
    },
    {
     "data": {
      "text/plain": [
       " sending to server"
      ]
     },
     "output_type": "unknown"
    },
    {
     "data": {
      "text/plain": [
       "\r\n"
      ]
     },
     "output_type": "unknown"
    },
    {
     "data": {
      "text/plain": [
       "Request to server OK"
      ]
     },
     "output_type": "unknown"
    },
    {
     "data": {
      "text/plain": [
       "\r\n"
      ]
     },
     "output_type": "unknown"
    },
    {
     "data": {
      "text/plain": [
       "Response code "
      ]
     },
     "output_type": "unknown"
    },
    {
     "data": {
      "text/plain": [
       "OK"
      ]
     },
     "output_type": "unknown"
    },
    {
     "data": {
      "text/plain": [
       " sending to server"
      ]
     },
     "output_type": "unknown"
    },
    {
     "data": {
      "text/plain": [
       "\r\n"
      ]
     },
     "output_type": "unknown"
    },
    {
     "data": {
      "text/plain": [
       "Request to server OK"
      ]
     },
     "output_type": "unknown"
    },
    {
     "data": {
      "text/plain": [
       "\r\n"
      ]
     },
     "output_type": "unknown"
    },
    {
     "data": {
      "text/plain": [
       "Response code "
      ]
     },
     "output_type": "unknown"
    },
    {
     "data": {
      "text/plain": [
       "OK"
      ]
     },
     "output_type": "unknown"
    },
    {
     "data": {
      "text/plain": [
       " sending to server"
      ]
     },
     "output_type": "unknown"
    },
    {
     "data": {
      "text/plain": [
       "\r\n"
      ]
     },
     "output_type": "unknown"
    },
    {
     "data": {
      "text/plain": [
       "Request to server OK"
      ]
     },
     "output_type": "unknown"
    },
    {
     "data": {
      "text/plain": [
       "\r\n"
      ]
     },
     "output_type": "unknown"
    },
    {
     "data": {
      "text/plain": [
       "Response code "
      ]
     },
     "output_type": "unknown"
    },
    {
     "data": {
      "text/plain": [
       "OK"
      ]
     },
     "output_type": "unknown"
    },
    {
     "data": {
      "text/plain": [
       " sending to server"
      ]
     },
     "output_type": "unknown"
    },
    {
     "data": {
      "text/plain": [
       "\r\n"
      ]
     },
     "output_type": "unknown"
    },
    {
     "data": {
      "text/plain": [
       "Request to server OK"
      ]
     },
     "output_type": "unknown"
    },
    {
     "data": {
      "text/plain": [
       "\r\n"
      ]
     },
     "output_type": "unknown"
    },
    {
     "data": {
      "text/plain": [
       "Response code "
      ]
     },
     "output_type": "unknown"
    },
    {
     "data": {
      "text/plain": [
       "OK"
      ]
     },
     "output_type": "unknown"
    },
    {
     "data": {
      "text/plain": [
       " sending to server"
      ]
     },
     "output_type": "unknown"
    },
    {
     "data": {
      "text/plain": [
       "\r\n"
      ]
     },
     "output_type": "unknown"
    },
    {
     "data": {
      "text/plain": [
       "Request to server OK"
      ]
     },
     "output_type": "unknown"
    },
    {
     "data": {
      "text/plain": [
       "\r\n"
      ]
     },
     "output_type": "unknown"
    },
    {
     "data": {
      "text/plain": [
       "Response code "
      ]
     },
     "output_type": "unknown"
    },
    {
     "data": {
      "text/plain": [
       "OK"
      ]
     },
     "output_type": "unknown"
    },
    {
     "data": {
      "text/plain": [
       " sending to server"
      ]
     },
     "output_type": "unknown"
    },
    {
     "data": {
      "text/plain": [
       "\r\n"
      ]
     },
     "output_type": "unknown"
    },
    {
     "data": {
      "text/plain": [
       "Request to server OK"
      ]
     },
     "output_type": "unknown"
    },
    {
     "data": {
      "text/plain": [
       "\r\n"
      ]
     },
     "output_type": "unknown"
    },
    {
     "data": {
      "text/plain": [
       "Response code "
      ]
     },
     "output_type": "unknown"
    },
    {
     "data": {
      "text/plain": [
       "OK"
      ]
     },
     "output_type": "unknown"
    },
    {
     "data": {
      "text/plain": [
       " sending to server"
      ]
     },
     "output_type": "unknown"
    },
    {
     "data": {
      "text/plain": [
       "\r\n"
      ]
     },
     "output_type": "unknown"
    },
    {
     "data": {
      "text/plain": [
       "Request to server OK"
      ]
     },
     "output_type": "unknown"
    },
    {
     "data": {
      "text/plain": [
       "\r\n"
      ]
     },
     "output_type": "unknown"
    },
    {
     "data": {
      "text/plain": [
       "Response code "
      ]
     },
     "output_type": "unknown"
    },
    {
     "data": {
      "text/plain": [
       "OK"
      ]
     },
     "output_type": "unknown"
    },
    {
     "data": {
      "text/plain": [
       " sending to server"
      ]
     },
     "output_type": "unknown"
    },
    {
     "data": {
      "text/plain": [
       "\r\n"
      ]
     },
     "output_type": "unknown"
    },
    {
     "data": {
      "text/plain": [
       "Request to server OK"
      ]
     },
     "output_type": "unknown"
    },
    {
     "data": {
      "text/plain": [
       "\r\n"
      ]
     },
     "output_type": "unknown"
    },
    {
     "data": {
      "text/plain": [
       "Response code "
      ]
     },
     "output_type": "unknown"
    },
    {
     "data": {
      "text/plain": [
       "OK"
      ]
     },
     "output_type": "unknown"
    },
    {
     "data": {
      "text/plain": [
       " sending to server"
      ]
     },
     "output_type": "unknown"
    },
    {
     "data": {
      "text/plain": [
       "\r\n"
      ]
     },
     "output_type": "unknown"
    },
    {
     "data": {
      "text/plain": [
       "Request to server OK"
      ]
     },
     "output_type": "unknown"
    },
    {
     "data": {
      "text/plain": [
       "\r\n"
      ]
     },
     "output_type": "unknown"
    },
    {
     "data": {
      "text/plain": [
       "Response code "
      ]
     },
     "output_type": "unknown"
    },
    {
     "data": {
      "text/plain": [
       "OK"
      ]
     },
     "output_type": "unknown"
    },
    {
     "data": {
      "text/plain": [
       " sending to server"
      ]
     },
     "output_type": "unknown"
    },
    {
     "data": {
      "text/plain": [
       "\r\n"
      ]
     },
     "output_type": "unknown"
    },
    {
     "data": {
      "text/plain": [
       "Request to server OK"
      ]
     },
     "output_type": "unknown"
    },
    {
     "data": {
      "text/plain": [
       "\r\n"
      ]
     },
     "output_type": "unknown"
    },
    {
     "data": {
      "text/plain": [
       "Response code "
      ]
     },
     "output_type": "unknown"
    },
    {
     "data": {
      "text/plain": [
       "OK"
      ]
     },
     "output_type": "unknown"
    },
    {
     "data": {
      "text/plain": [
       " sending to server"
      ]
     },
     "output_type": "unknown"
    },
    {
     "data": {
      "text/plain": [
       "\r\n"
      ]
     },
     "output_type": "unknown"
    },
    {
     "data": {
      "text/plain": [
       "Request to server OK"
      ]
     },
     "output_type": "unknown"
    },
    {
     "data": {
      "text/plain": [
       "\r\n"
      ]
     },
     "output_type": "unknown"
    },
    {
     "data": {
      "text/plain": [
       "Response code "
      ]
     },
     "output_type": "unknown"
    },
    {
     "data": {
      "text/plain": [
       "OK"
      ]
     },
     "output_type": "unknown"
    },
    {
     "data": {
      "text/plain": [
       " sending to server"
      ]
     },
     "output_type": "unknown"
    },
    {
     "data": {
      "text/plain": [
       "\r\n"
      ]
     },
     "output_type": "unknown"
    },
    {
     "data": {
      "text/plain": [
       "Request to server OK"
      ]
     },
     "output_type": "unknown"
    },
    {
     "data": {
      "text/plain": [
       "\r\n"
      ]
     },
     "output_type": "unknown"
    },
    {
     "data": {
      "text/plain": [
       "Response code "
      ]
     },
     "output_type": "unknown"
    },
    {
     "data": {
      "text/plain": [
       "OK"
      ]
     },
     "output_type": "unknown"
    },
    {
     "data": {
      "text/plain": [
       " sending to server"
      ]
     },
     "output_type": "unknown"
    },
    {
     "data": {
      "text/plain": [
       "\r\n"
      ]
     },
     "output_type": "unknown"
    },
    {
     "data": {
      "text/plain": [
       "Request to server OK"
      ]
     },
     "output_type": "unknown"
    },
    {
     "data": {
      "text/plain": [
       "\r\n"
      ]
     },
     "output_type": "unknown"
    },
    {
     "data": {
      "text/plain": [
       "Running server from "
      ]
     },
     "output_type": "unknown"
    },
    {
     "data": {
      "text/plain": [
       "C:\\Users\\h3tec\\.nuget\\packages\\fizzplot\\0.0.1-pre5\\lib\\netcoreapp3.1\\FizzPlot.Server.dll"
      ]
     },
     "output_type": "unknown"
    },
    {
     "data": {
      "text/plain": [
       "\r\n"
      ]
     },
     "output_type": "unknown"
    },
    {
     "data": {
      "text/plain": [
       "Running server process..."
      ]
     },
     "output_type": "unknown"
    },
    {
     "data": {
      "text/plain": [
       "\r\n"
      ]
     },
     "output_type": "unknown"
    },
    {
     "data": {
      "text/plain": [
       "Response code "
      ]
     },
     "output_type": "unknown"
    },
    {
     "data": {
      "text/plain": [
       "OK"
      ]
     },
     "output_type": "unknown"
    },
    {
     "data": {
      "text/plain": [
       " sending to server"
      ]
     },
     "output_type": "unknown"
    },
    {
     "data": {
      "text/plain": [
       "\r\n"
      ]
     },
     "output_type": "unknown"
    },
    {
     "data": {
      "text/plain": [
       "Request to server OK"
      ]
     },
     "output_type": "unknown"
    },
    {
     "data": {
      "text/plain": [
       "\r\n"
      ]
     },
     "output_type": "unknown"
    },
    {
     "data": {
      "text/plain": [
       "Response code "
      ]
     },
     "output_type": "unknown"
    },
    {
     "data": {
      "text/plain": [
       "OK"
      ]
     },
     "output_type": "unknown"
    },
    {
     "data": {
      "text/plain": [
       " sending to server"
      ]
     },
     "output_type": "unknown"
    },
    {
     "data": {
      "text/plain": [
       "\r\n"
      ]
     },
     "output_type": "unknown"
    },
    {
     "data": {
      "text/plain": [
       "Request to server OK"
      ]
     },
     "output_type": "unknown"
    },
    {
     "data": {
      "text/plain": [
       "\r\n"
      ]
     },
     "output_type": "unknown"
    },
    {
     "data": {
      "text/plain": [
       "Response code "
      ]
     },
     "output_type": "unknown"
    },
    {
     "data": {
      "text/plain": [
       "OK"
      ]
     },
     "output_type": "unknown"
    },
    {
     "data": {
      "text/plain": [
       " sending to server"
      ]
     },
     "output_type": "unknown"
    },
    {
     "data": {
      "text/plain": [
       "\r\n"
      ]
     },
     "output_type": "unknown"
    },
    {
     "data": {
      "text/plain": [
       "Request to server OK"
      ]
     },
     "output_type": "unknown"
    },
    {
     "data": {
      "text/plain": [
       "\r\n"
      ]
     },
     "output_type": "unknown"
    },
    {
     "data": {
      "text/plain": [
       "Response code "
      ]
     },
     "output_type": "unknown"
    },
    {
     "data": {
      "text/plain": [
       "OK"
      ]
     },
     "output_type": "unknown"
    },
    {
     "data": {
      "text/plain": [
       " sending to server"
      ]
     },
     "output_type": "unknown"
    },
    {
     "data": {
      "text/plain": [
       "\r\n"
      ]
     },
     "output_type": "unknown"
    },
    {
     "data": {
      "text/plain": [
       "Request to server OK"
      ]
     },
     "output_type": "unknown"
    },
    {
     "data": {
      "text/plain": [
       "\r\n"
      ]
     },
     "output_type": "unknown"
    },
    {
     "data": {
      "text/plain": [
       "Response code "
      ]
     },
     "output_type": "unknown"
    },
    {
     "data": {
      "text/plain": [
       "OK"
      ]
     },
     "output_type": "unknown"
    },
    {
     "data": {
      "text/plain": [
       " sending to server"
      ]
     },
     "output_type": "unknown"
    },
    {
     "data": {
      "text/plain": [
       "\r\n"
      ]
     },
     "output_type": "unknown"
    },
    {
     "data": {
      "text/plain": [
       "Request to server OK"
      ]
     },
     "output_type": "unknown"
    },
    {
     "data": {
      "text/plain": [
       "\r\n"
      ]
     },
     "output_type": "unknown"
    },
    {
     "data": {
      "text/plain": [
       "Response code "
      ]
     },
     "output_type": "unknown"
    },
    {
     "data": {
      "text/plain": [
       "OK"
      ]
     },
     "output_type": "unknown"
    },
    {
     "data": {
      "text/plain": [
       " sending to server"
      ]
     },
     "output_type": "unknown"
    },
    {
     "data": {
      "text/plain": [
       "\r\n"
      ]
     },
     "output_type": "unknown"
    },
    {
     "data": {
      "text/plain": [
       "Request to server OK"
      ]
     },
     "output_type": "unknown"
    },
    {
     "data": {
      "text/plain": [
       "\r\n"
      ]
     },
     "output_type": "unknown"
    }
   ],
   "source": [
    "// Update series properties\r\n",
    "fig.series.[0].name.Set \"Chirp Signal\"\r\n",
    "fig.series.[0].color.Set \"#AAFF22\"\r\n",
    "fig.series.[0].marker.enabledThreshold.Set 4\r\n",
    "fig.series.[0].marker.fillColor.Set \"#CCC\"\r\n",
    "\r\n",
    "fig.series.[1].name.Set \"Envelope\"\r\n",
    "fig.series.[1].lineWidth.Set 4\r\n",
    "fig.series.[1].marker.enabled.Set false\r\n",
    "\r\n",
    "// Update axis properties (range, type)\r\n",
    "fig.xAxis.[0].min.Set 0.1\r\n",
    "fig.xAxis.[0].max.Set 0.5\r\n",
    "fig.yAxis.[0]._type.Set \"logarithmic\"\r\n",
    "fig.yAxis.[0].endOnTick.Set false\r\n",
    "fig.yAxis.[0].max.Set 2.4\r\n",
    "\r\n",
    "// Set the theme to gray\r\n",
    "setTheme \"gray\" // dark, gray, default\r\n",
    "\r\n",
    "// Save image to PNG\r\n",
    "save \".\\\\img.png\"\r\n",
    "\r\n",
    "// Some styling changes\r\n",
    "fig.chart.plotBackgroundColor.Set \"#222\"\r\n",
    "fig.chart.plotBorderColor.Set \"#FFF\"\r\n",
    "fig.chart.plotBorderWidth.Set 1\r\n",
    "fig.title.style.fontFamily.Set \"Courier New\"\r\n",
    "fig.title.style.fontSize.Set \"8px\"\r\n",
    "fig.title.style.color.Set \"#BBB\"\r\n",
    "\r\n",
    "// Legend\r\n",
    "fig.legend.layout.Set \"horizontal\"\r\n",
    "fig.legend.align.Set \"left\"\r\n",
    "fig.legend.backgroundColor.Set \"#000\"\r\n",
    "fig.legend.enabled.Set false\r\n",
    "\r\n",
    "// Ticks\r\n",
    "fig.xAxis.[0].tickColor.Set \"#555\"\r\n",
    "fig.xAxis.[0].tickLength.Set 6\r\n",
    "fig.xAxis.[0].tickInterval.Set 0.1\r\n",
    "fig.xAxis.[0].labels.rotation.Set 90\r\n",
    "fig.xAxis.[0].labels.format.Set \"{value} m\"\r\n",
    "\r\n",
    "fig.xAxis.[0].gridLineWidth.Set 2\r\n",
    "fig.xAxis.[0].gridLineColor.Set \"#A77\"\r\n",
    "\r\n",
    "// Remove the first series\r\n",
    "remove 0\r\n",
    "\r\n",
    "// Add another series\r\n",
    "let rand = System.Random(2387)\r\n",
    "let data3 = [ for t in 0.0 .. 0.01 .. 1. -> (t, 2.0 * t + 1.0 + 0.3 * rand.NextDouble()) ]\r\n",
    "plot data3 |> ignore\r\n",
    "\r\n",
    "fig.series.[1].name.Set \"Random\"\r\n",
    "\r\n",
    "// Update the title again\r\n",
    "title \"Sound absorption\"\r\n",
    "\r\n",
    "// Update the axis titles again\r\n",
    "xlabel \"Partition separation\"\r\n",
    "ylabel \"Absorption\""
   ]
  }
 ],
 "metadata": {
  "kernelspec": {
   "display_name": ".NET (C#)",
   "language": "C#",
   "name": ".net-csharp"
  },
  "language_info": {
   "file_extension": ".cs",
   "mimetype": "text/x-csharp",
   "name": "C#",
   "pygments_lexer": "csharp",
   "version": "9.0"
  },
  "orig_nbformat": 4
 },
 "nbformat": 4,
 "nbformat_minor": 2
}