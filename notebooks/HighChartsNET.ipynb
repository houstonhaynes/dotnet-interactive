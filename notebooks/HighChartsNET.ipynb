{
 "cells": [
  {
   "cell_type": "code",
   "execution_count": null,
   "metadata": {
    "dotnet_interactive": {
     "language": "fsharp"
    }
   },
   "outputs": [
    {
     "data": {
      "text/html": [
       "<div><div><strong>Restore sources</strong><ul><li><span>https://dotnet.myget.org/F/dotnet-core/api/v3/index.json</span></li><li><span>https://pkgs.dev.azure.com/dnceng/public/_packaging/dotnet-tools/nuget/v3/index.json</span></li><li><span>https://pkgs.dev.azure.com/dnceng/public/_packaging/dotnet5/nuget/v3/index.json</span></li></ul></div><div></div><div></div></div>"
      ]
     },
     "output_type": "unknown"
    },
    {
     "data": {
      "application/vnd.code.notebook.error": {
       "message": "C:\\Program Files\\dotnet\\sdk\\5.0.301\\NuGet.targets(131,5): error : Unable to load the service index for source https://dotnet.myget.org/F/dotnet-core/api/v3/index.json. [C:\\Users\\h3tec\\AppData\\Local\\Temp\\nuget\\21924--c8ec45b9-7de4-4c0e-9499-cee4339d231d\\Project.fsproj]\r\nC:\\Program Files\\dotnet\\sdk\\5.0.301\\NuGet.targets(131,5): error :   The SSL connection could not be established, see inner exception. [C:\\Users\\h3tec\\AppData\\Local\\Temp\\nuget\\21924--c8ec45b9-7de4-4c0e-9499-cee4339d231d\\Project.fsproj]\r\nC:\\Program Files\\dotnet\\sdk\\5.0.301\\NuGet.targets(131,5): error :   The remote certificate is invalid according to the validation procedure: RemoteCertificateNameMismatch [C:\\Users\\h3tec\\AppData\\Local\\Temp\\nuget\\21924--c8ec45b9-7de4-4c0e-9499-cee4339d231d\\Project.fsproj]",
       "name": "Error"
      }
     },
     "output_type": "unknown"
    }
   ],
   "source": [
    "#i \"nuget:https://pkgs.dev.azure.com/dnceng/public/_packaging/dotnet5/nuget/v3/index.json\" \r\n",
    "#i \"nuget:https://pkgs.dev.azure.com/dnceng/public/_packaging/dotnet-tools/nuget/v3/index.json\" \r\n",
    "#i \"nuget:https://dotnet.myget.org/F/dotnet-core/api/v3/index.json\" \r\n",
    "\r\n",
    "#r \"nuget: WebSharper.Highcharts, 4.7.1.212\"\r\n",
    "\r\n",
    "open Highcharts"
   ]
  }
 ],
 "metadata": {
  "kernelspec": {
   "display_name": ".NET (C#)",
   "language": "C#",
   "name": ".net-csharp"
  },
  "language_info": {
   "file_extension": ".cs",
   "mimetype": "text/x-csharp",
   "name": "C#",
   "pygments_lexer": "csharp",
   "version": "9.0"
  },
  "orig_nbformat": 4
 },
 "nbformat": 4,
 "nbformat_minor": 2
}